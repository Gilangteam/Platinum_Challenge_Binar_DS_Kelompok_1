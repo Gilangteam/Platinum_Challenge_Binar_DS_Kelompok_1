{
 "cells": [
  {
   "cell_type": "code",
   "execution_count": 1,
   "id": "82003722",
   "metadata": {},
   "outputs": [],
   "source": [
    "from flask import Flask, request, render_template, jsonify\n",
    "import pandas as pd\n",
    "import numpy as np\n",
    "import re\n",
    "import csv\n",
    "import pickle"
   ]
  },
  {
   "cell_type": "code",
   "execution_count": 2,
   "id": "1559da6e",
   "metadata": {},
   "outputs": [],
   "source": [
    "app = Flask(__name__, template_folder='templateFiles')"
   ]
  },
  {
   "cell_type": "markdown",
   "id": "6b25dc39",
   "metadata": {},
   "source": [
    "## API Untuk Input Teks"
   ]
  },
  {
   "cell_type": "code",
   "execution_count": 3,
   "id": "d1bcb69f",
   "metadata": {},
   "outputs": [],
   "source": [
    "@app.route('/')\n",
    "def my_form():\n",
    "    return render_template('text_sentiment.html')"
   ]
  },
  {
   "cell_type": "code",
   "execution_count": 4,
   "id": "45fb2eb8",
   "metadata": {},
   "outputs": [],
   "source": [
    "@app.route('/', methods=['POST'])\n",
    "def my_form_post():\n",
    "    text = request.form['text']\n",
    "    count_vect = pickle.load(open('count_vect.pkl','rb'))\n",
    "    model = pickle.load(open('model_neural_network.pkl', 'rb'))\n",
    "\n",
    "    text = text.replace(\"\\\\n\", \" \")\n",
    "    text = re.sub(r\"(#)(.*)()\", r\"\", text)\n",
    "    text = re.sub(r\"[!\\\"#$%&'()*+-./:;<=>?@[\\]^_`{|}~]\", r\"\", text)\n",
    "    text = re.sub(r\"(\\s)(\\1+)\", r\"\\1\", text)\n",
    "    text = text.replace(\"RT \",\"\")\n",
    "    text = text.replace(\"USER \",\"\")\n",
    "    text = text.replace(\"USER\",\"\")\n",
    "    text = re.sub(r\"([a-z])(\\1{3,})\", r\"\\1\\1\", text)\n",
    "    text = re.sub(r\"(\\\\x)([a-z0-9]{2})\", r\"\", text)\n",
    "    text  = re.sub(r\"(\\\\x8)\", r\"\", text)\n",
    "    text = text.lower()\n",
    "    text = text.strip()\n",
    "    \n",
    "    preprocess_text = text\n",
    "    \n",
    "    predict_text = count_vect.transform([preprocess_text])\n",
    "    result = model.predict(predict_text)[0]\n",
    "\n",
    "    response = {\n",
    "    'data' : preprocess_text,\n",
    "    'result sentiment' : result\n",
    "    }\n",
    "    \n",
    "    response_data = response\n",
    "    return response_data"
   ]
  },
  {
   "cell_type": "markdown",
   "id": "7aa484b7",
   "metadata": {},
   "source": [
    "## API Untuk Input File"
   ]
  },
  {
   "cell_type": "code",
   "execution_count": 5,
   "id": "06aefb8c",
   "metadata": {},
   "outputs": [],
   "source": [
    "@app.route('/csv-upload', methods=['GET', 'POST'])\n",
    "def index():\n",
    "    return render_template('index.html')"
   ]
  },
  {
   "cell_type": "code",
   "execution_count": 6,
   "id": "20999b02",
   "metadata": {},
   "outputs": [],
   "source": [
    "def preprocessing_text(text): \n",
    "    text = text.replace(\"\\\\n\", \" \")\n",
    "    text = re.sub(r\"(#)(.*)()\", r\"\", text)\n",
    "    text = re.sub(r\"[!\\\"#$%&'()*+-./:;<=>?@[\\]^_`{|}~]\", r\"\", text)\n",
    "    text = re.sub(r\"(\\s)(\\1+)\", r\"\\1\", text)\n",
    "    text = text.replace(\"URL\",\"\")\n",
    "    text = text.replace(\"RT \",\"\")\n",
    "    text = text.replace(\"USER \",\"\")\n",
    "    text = text.replace(\"USER\",\"\")\n",
    "    text = re.sub(r\"([a-z])(\\1{3,})\", r\"\\1\\1\", text)\n",
    "    text = re.sub(r\"(\\\\x)([a-z0-9]{2})\", r\"\", text)\n",
    "    text  = re.sub(r\"(\\\\x8)\", r\"\", text)\n",
    "    text = text.lower()\n",
    "    text = text.strip()\n",
    "    return text"
   ]
  },
  {
   "cell_type": "code",
   "execution_count": 7,
   "id": "060ae2b7",
   "metadata": {},
   "outputs": [
    {
     "name": "stderr",
     "output_type": "stream",
     "text": [
      "C:\\Users\\crire\\AppData\\Local\\Programs\\Python\\Python311\\Lib\\site-packages\\sklearn\\base.py:318: UserWarning: Trying to unpickle estimator CountVectorizer from version 1.2.1 when using version 1.2.2. This might lead to breaking code or invalid results. Use at your own risk. For more info please refer to:\n",
      "https://scikit-learn.org/stable/model_persistence.html#security-maintainability-limitations\n",
      "  warnings.warn(\n",
      "C:\\Users\\crire\\AppData\\Local\\Programs\\Python\\Python311\\Lib\\site-packages\\sklearn\\base.py:318: UserWarning: Trying to unpickle estimator LabelBinarizer from version 1.2.1 when using version 1.2.2. This might lead to breaking code or invalid results. Use at your own risk. For more info please refer to:\n",
      "https://scikit-learn.org/stable/model_persistence.html#security-maintainability-limitations\n",
      "  warnings.warn(\n",
      "C:\\Users\\crire\\AppData\\Local\\Programs\\Python\\Python311\\Lib\\site-packages\\sklearn\\base.py:318: UserWarning: Trying to unpickle estimator MLPClassifier from version 1.2.1 when using version 1.2.2. This might lead to breaking code or invalid results. Use at your own risk. For more info please refer to:\n",
      "https://scikit-learn.org/stable/model_persistence.html#security-maintainability-limitations\n",
      "  warnings.warn(\n"
     ]
    }
   ],
   "source": [
    "count_vect = pickle.load(open('count_vect.pkl','rb'))\n",
    "model = pickle.load(open('model_neural_network.pkl', 'rb'))\n",
    "\n",
    "def input_data(text):\n",
    "    predict_text = count_vect.transform([text])\n",
    "    result = model.predict(predict_text)[0]\n",
    "    return result"
   ]
  },
  {
   "cell_type": "code",
   "execution_count": 8,
   "id": "2e8e1b72",
   "metadata": {},
   "outputs": [],
   "source": [
    "@app.route('/data', methods=['GET', 'POST'])\n",
    "def data():\n",
    "    if request.method == 'POST':\n",
    "        file = request.form.get('csvfile')\n",
    "        data = []\n",
    "        data = pd.read_csv(file)\n",
    "        \n",
    "        data['process_text'] = data['Tweet'].apply(lambda x:preprocessing_text(x))\n",
    "        data['predict'] = data['process_text'].apply(lambda x:input_data(x))\n",
    "        \n",
    "        data = data[['Tweet', 'process_text', 'predict']]\n",
    "        \n",
    "        return render_template('data.html', data=data.to_html(header=True, index=False))"
   ]
  },
  {
   "cell_type": "code",
   "execution_count": 9,
   "id": "d7ae8403",
   "metadata": {
    "scrolled": true
   },
   "outputs": [
    {
     "name": "stdout",
     "output_type": "stream",
     "text": [
      " * Serving Flask app '__main__'\n",
      " * Debug mode: off\n"
     ]
    },
    {
     "name": "stderr",
     "output_type": "stream",
     "text": [
      "WARNING: This is a development server. Do not use it in a production deployment. Use a production WSGI server instead.\n",
      " * Running on http://127.0.0.1:5000\n",
      "Press CTRL+C to quit\n",
      "127.0.0.1 - - [10/Apr/2023 14:21:36] \"GET / HTTP/1.1\" 200 -\n",
      "127.0.0.1 - - [10/Apr/2023 14:21:36] \"GET /favicon.ico HTTP/1.1\" 404 -\n",
      "127.0.0.1 - - [10/Apr/2023 14:21:41] \"POST / HTTP/1.1\" 200 -\n",
      "127.0.0.1 - - [10/Apr/2023 14:22:54] \"GET / HTTP/1.1\" 200 -\n",
      "127.0.0.1 - - [10/Apr/2023 14:23:01] \"POST / HTTP/1.1\" 200 -\n",
      "127.0.0.1 - - [10/Apr/2023 14:23:28] \"GET /csv-upload HTTP/1.1\" 200 -\n",
      "127.0.0.1 - - [10/Apr/2023 14:23:33] \"GET /csv-upload HTTP/1.1\" 200 -\n",
      "127.0.0.1 - - [10/Apr/2023 14:23:52] \"POST /data HTTP/1.1\" 200 -\n",
      "127.0.0.1 - - [10/Apr/2023 14:24:02] \"POST /data HTTP/1.1\" 200 -\n",
      "127.0.0.1 - - [10/Apr/2023 14:24:31] \"GET / HTTP/1.1\" 200 -\n"
     ]
    }
   ],
   "source": [
    "if __name__ == \"__main__\":\n",
    "    app.run()"
   ]
  },
  {
   "cell_type": "code",
   "execution_count": null,
   "id": "ef6ac131",
   "metadata": {},
   "outputs": [],
   "source": []
  },
  {
   "cell_type": "code",
   "execution_count": null,
   "id": "fd8f940e",
   "metadata": {},
   "outputs": [],
   "source": []
  }
 ],
 "metadata": {
  "kernelspec": {
   "display_name": "Python 3 (ipykernel)",
   "language": "python",
   "name": "python3"
  },
  "language_info": {
   "codemirror_mode": {
    "name": "ipython",
    "version": 3
   },
   "file_extension": ".py",
   "mimetype": "text/x-python",
   "name": "python",
   "nbconvert_exporter": "python",
   "pygments_lexer": "ipython3",
   "version": "3.11.1"
  }
 },
 "nbformat": 4,
 "nbformat_minor": 5
}
