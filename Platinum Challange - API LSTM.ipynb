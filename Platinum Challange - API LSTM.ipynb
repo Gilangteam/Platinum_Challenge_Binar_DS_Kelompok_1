{
 "cells": [
  {
   "cell_type": "code",
   "execution_count": 5,
   "id": "f95fd9e9",
   "metadata": {},
   "outputs": [],
   "source": [
    "from flask import Flask, request, render_template, jsonify\n",
    "import pandas as pd\n",
    "import numpy as np\n",
    "import re\n",
    "import csv\n",
    "import pickle\n",
    "from tensorflow.keras.preprocessing.sequence import pad_sequences"
   ]
  },
  {
   "cell_type": "code",
   "execution_count": 6,
   "id": "6d25f64d",
   "metadata": {},
   "outputs": [],
   "source": [
    "app = Flask(__name__, template_folder='templateFiles')"
   ]
  },
  {
   "cell_type": "markdown",
   "id": "7a13bd49",
   "metadata": {},
   "source": [
    "## API Untuk Input Text ##"
   ]
  },
  {
   "cell_type": "code",
   "execution_count": 7,
   "id": "7acaef87",
   "metadata": {},
   "outputs": [],
   "source": [
    "@app.route('/')\n",
    "def my_form():\n",
    "    return render_template('text_sentiment.html')"
   ]
  },
  {
   "cell_type": "code",
   "execution_count": 8,
   "id": "45fabc2c",
   "metadata": {},
   "outputs": [],
   "source": [
    "@app.route('/', methods=['POST'])\n",
    "def my_form_post():\n",
    "    text = request.form['text']\n",
    "    tknzr = pickle.load(open('tokenizer_lstm.pkl','rb'))\n",
    "    model = pickle.load(open('model_lstm.pkl', 'rb'))\n",
    "\n",
    "    text = text.replace(\"\\\\n\", \" \")\n",
    "    text = re.sub(r\"(#)(.*)()\", r\"\", text)\n",
    "    text = re.sub(r\"[!\\\"#$%&'()*+-./:;<=>?@[\\]^_`{|}~]\", r\"\", text)\n",
    "    text = re.sub(r\"(\\s)(\\1+)\", r\"\\1\", text)\n",
    "    text = text.replace(\"URL\",\"\")\n",
    "    text = text.replace(\"RT \",\"\")\n",
    "    text = text.replace(\"USER \",\"\")\n",
    "    text = text.replace(\"USER\",\"\")\n",
    "    text = re.sub(r\"([a-z])(\\1{3,})\", r\"\\1\\1\", text)\n",
    "    text = re.sub(r\"(\\\\x)([a-z0-9]{2})\", r\"\", text)\n",
    "    text  = re.sub(r\"(\\\\x8)\", r\"\", text)\n",
    "    text = text.lower()\n",
    "    text = text.strip()\n",
    "    \n",
    "    preprocess_text = text\n",
    "    max_features = 100\n",
    "    \n",
    "    new_X_val = [preprocess_text]\n",
    "    new_X_val = tknzr.texts_to_sequences(new_X_val)\n",
    "    new_X_val = pad_sequences(new_X_val, maxlen=max_features)\n",
    "    new_y_pred = model.predict(new_X_val)\n",
    "    new_y_pred = np.argmax(new_y_pred, axis=1)\n",
    "    new_y_pred = new_y_pred.tolist()\n",
    "    #new_y_pred = lb.inverse_transform(new_y_pred)\n",
    "    \n",
    "    sentiment = []\n",
    "    for code in new_y_pred:\n",
    "        if code == 0:\n",
    "            sentiment.append(\"Negative Sentiment\")\n",
    "        elif code == 1:\n",
    "            sentiment.append(\"Neutral Sentiment\")\n",
    "        else:\n",
    "            sentiment.append(\"Positive Sentiment\")\n",
    "\n",
    "    response = {\n",
    "    'data' : preprocess_text,\n",
    "    'result sentiment' : sentiment\n",
    "    }\n",
    "    \n",
    "    response_data = response\n",
    "    return response_data"
   ]
  },
  {
   "cell_type": "markdown",
   "id": "c079998d",
   "metadata": {},
   "source": [
    "## API Untuk Input File"
   ]
  },
  {
   "cell_type": "code",
   "execution_count": 9,
   "id": "a214f962",
   "metadata": {},
   "outputs": [],
   "source": [
    "@app.route('/csv-upload', methods=['GET', 'POST'])\n",
    "def index():\n",
    "    return render_template('index.html')"
   ]
  },
  {
   "cell_type": "code",
   "execution_count": 10,
   "id": "da9b0f65",
   "metadata": {},
   "outputs": [],
   "source": [
    "def preprocessing_text(text): \n",
    "    text = text.replace(\"\\\\n\", \" \")\n",
    "    text = re.sub(r\"(#)(.*)()\", r\"\", text)\n",
    "    text = re.sub(r\"[!\\\"#$%&'()*+-./:;<=>?@[\\]^_`{|}~]\", r\"\", text)\n",
    "    text = re.sub(r\"(\\s)(\\1+)\", r\"\\1\", text)\n",
    "    text = text.replace(\"URL\",\"\")\n",
    "    text = text.replace(\"RT \",\"\")\n",
    "    text = text.replace(\"USER \",\"\")\n",
    "    text = text.replace(\"USER\",\"\")\n",
    "    text = re.sub(r\"([a-z])(\\1{3,})\", r\"\\1\\1\", text)\n",
    "    text = re.sub(r\"(\\\\x)([a-z0-9]{2})\", r\"\", text)\n",
    "    text  = re.sub(r\"(\\\\x8)\", r\"\", text)\n",
    "    text = text.lower()\n",
    "    text = text.strip()\n",
    "    return text"
   ]
  },
  {
   "cell_type": "code",
   "execution_count": 11,
   "id": "88be26f4",
   "metadata": {},
   "outputs": [],
   "source": [
    "tknzr = pickle.load(open('tokenizer_lstm.pkl','rb'))\n",
    "model = pickle.load(open('model_lstm.pkl', 'rb'))\n",
    "max_features = 100\n",
    "\n",
    "def input_data(text):\n",
    "    new_X_val = [text]\n",
    "    new_X_val = tknzr.texts_to_sequences(new_X_val)\n",
    "    new_X_val = pad_sequences(new_X_val, maxlen=max_features)\n",
    "    new_y_pred = model.predict(new_X_val)\n",
    "    new_y_pred = np.argmax(new_y_pred, axis=1)\n",
    "    new_y_pred = new_y_pred.tolist()\n",
    "    return new_y_pred"
   ]
  },
  {
   "cell_type": "code",
   "execution_count": 12,
   "id": "edf8a2f3",
   "metadata": {},
   "outputs": [],
   "source": [
    "@app.route('/data', methods=['GET', 'POST'])\n",
    "def data():\n",
    "    if request.method == 'POST':\n",
    "        file = request.form.get('csvfile')\n",
    "        data = []\n",
    "        data = pd.read_csv(file)\n",
    "        \n",
    "        data['process_text'] = data['Tweet'].apply(lambda x:preprocessing_text(x))\n",
    "        data['sentiment'] = data['process_text'].apply(lambda x:input_data(x))\n",
    "            \n",
    "        predict = []\n",
    "        for code in data['sentiment']:\n",
    "            if code == [0]:\n",
    "                predict.append(\"Negative Sentiment\")\n",
    "            elif code == [1]:\n",
    "                predict.append(\"Neutral Sentiment\")\n",
    "            else:\n",
    "                predict.append(\"Positive Sentiment\")\n",
    "        \n",
    "        data['predict'] = predict\n",
    "        \n",
    "        data = data[['Tweet', 'process_text', 'predict']]\n",
    "        \n",
    "        return render_template('data.html', data=data.to_html(header=True, index=False))"
   ]
  },
  {
   "cell_type": "code",
   "execution_count": null,
   "id": "02668be2",
   "metadata": {},
   "outputs": [
    {
     "name": "stdout",
     "output_type": "stream",
     "text": [
      " * Serving Flask app '__main__'\n",
      " * Debug mode: off\n"
     ]
    },
    {
     "name": "stderr",
     "output_type": "stream",
     "text": [
      "WARNING: This is a development server. Do not use it in a production deployment. Use a production WSGI server instead.\n",
      " * Running on http://127.0.0.1:5000\n",
      "Press CTRL+C to quit\n"
     ]
    }
   ],
   "source": [
    "if __name__ == \"__main__\":\n",
    "    app.run()"
   ]
  },
  {
   "cell_type": "code",
   "execution_count": null,
   "id": "f429510e",
   "metadata": {},
   "outputs": [],
   "source": []
  }
 ],
 "metadata": {
  "kernelspec": {
   "display_name": "Python 3 (ipykernel)",
   "language": "python",
   "name": "python3"
  },
  "language_info": {
   "codemirror_mode": {
    "name": "ipython",
    "version": 3
   },
   "file_extension": ".py",
   "mimetype": "text/x-python",
   "name": "python",
   "nbconvert_exporter": "python",
   "pygments_lexer": "ipython3",
   "version": "3.11.1"
  }
 },
 "nbformat": 4,
 "nbformat_minor": 5
}
