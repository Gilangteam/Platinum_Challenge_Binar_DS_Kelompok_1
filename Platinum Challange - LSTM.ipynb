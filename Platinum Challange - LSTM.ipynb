{
 "cells": [
  {
   "cell_type": "markdown",
   "id": "a72d2d2e",
   "metadata": {},
   "source": [
    "## Convert to CSV File"
   ]
  },
  {
   "cell_type": "code",
   "execution_count": 1,
   "id": "0ca9fbd5",
   "metadata": {
    "scrolled": false
   },
   "outputs": [],
   "source": [
    "#import pandas as pd\n",
    "#import re\n",
    "#import csv"
   ]
  },
  {
   "cell_type": "code",
   "execution_count": 2,
   "id": "675d9718",
   "metadata": {},
   "outputs": [],
   "source": [
    "#tweets = []\n",
    "#labels = []\n",
    "#with open('train_preprocess.tsv.txt', 'r') as file:\n",
    "    #for text in file:\n",
    "        #splits = text.strip().split(\"\\t\")\n",
    "        #tweet = splits[0]\n",
    "        #label = splits[1]\n",
    "        #tweets.append(tweet)\n",
    "        #labels.append(label)"
   ]
  },
  {
   "cell_type": "code",
   "execution_count": 3,
   "id": "7f018a54",
   "metadata": {},
   "outputs": [],
   "source": [
    "#df = pd.DataFrame({\"tweets\":tweets, \"labels\":labels})"
   ]
  },
  {
   "cell_type": "code",
   "execution_count": 4,
   "id": "aced347e",
   "metadata": {
    "scrolled": true
   },
   "outputs": [],
   "source": [
    "#df"
   ]
  },
  {
   "cell_type": "code",
   "execution_count": 5,
   "id": "51c32ba8",
   "metadata": {},
   "outputs": [],
   "source": [
    "#df.to_csv('train_preprocess.csv', index=False)"
   ]
  },
  {
   "cell_type": "markdown",
   "id": "05d56518",
   "metadata": {},
   "source": [
    "## Cleansing Duplikasi Data"
   ]
  },
  {
   "cell_type": "code",
   "execution_count": 6,
   "id": "25ebac1d",
   "metadata": {},
   "outputs": [],
   "source": [
    "import pandas as pd\n",
    "import numpy as np\n",
    "import matplotlib.pyplot as plt\n",
    "import seaborn as sns\n",
    "import re\n",
    "from collections import Counter"
   ]
  },
  {
   "cell_type": "code",
   "execution_count": 7,
   "id": "6996a414",
   "metadata": {},
   "outputs": [],
   "source": [
    "df = pd.read_csv('train_preprocess.csv')"
   ]
  },
  {
   "cell_type": "code",
   "execution_count": 8,
   "id": "92b14f93",
   "metadata": {},
   "outputs": [
    {
     "data": {
      "text/html": [
       "<div>\n",
       "<style scoped>\n",
       "    .dataframe tbody tr th:only-of-type {\n",
       "        vertical-align: middle;\n",
       "    }\n",
       "\n",
       "    .dataframe tbody tr th {\n",
       "        vertical-align: top;\n",
       "    }\n",
       "\n",
       "    .dataframe thead th {\n",
       "        text-align: right;\n",
       "    }\n",
       "</style>\n",
       "<table border=\"1\" class=\"dataframe\">\n",
       "  <thead>\n",
       "    <tr style=\"text-align: right;\">\n",
       "      <th></th>\n",
       "      <th>tweets</th>\n",
       "      <th>labels</th>\n",
       "    </tr>\n",
       "  </thead>\n",
       "  <tbody>\n",
       "    <tr>\n",
       "      <th>0</th>\n",
       "      <td>warung ini dimiliki oleh pengusaha pabrik tahu...</td>\n",
       "      <td>positive</td>\n",
       "    </tr>\n",
       "    <tr>\n",
       "      <th>1</th>\n",
       "      <td>mohon ulama lurus dan k212 mmbri hujjah partai...</td>\n",
       "      <td>neutral</td>\n",
       "    </tr>\n",
       "    <tr>\n",
       "      <th>2</th>\n",
       "      <td>lokasi strategis di jalan sumatera bandung . t...</td>\n",
       "      <td>positive</td>\n",
       "    </tr>\n",
       "    <tr>\n",
       "      <th>3</th>\n",
       "      <td>betapa bahagia nya diri ini saat unboxing pake...</td>\n",
       "      <td>positive</td>\n",
       "    </tr>\n",
       "    <tr>\n",
       "      <th>4</th>\n",
       "      <td>duh . jadi mahasiswa jangan sombong dong . kas...</td>\n",
       "      <td>negative</td>\n",
       "    </tr>\n",
       "    <tr>\n",
       "      <th>...</th>\n",
       "      <td>...</td>\n",
       "      <td>...</td>\n",
       "    </tr>\n",
       "    <tr>\n",
       "      <th>10995</th>\n",
       "      <td>tidak kecewa</td>\n",
       "      <td>positive</td>\n",
       "    </tr>\n",
       "    <tr>\n",
       "      <th>10996</th>\n",
       "      <td>enak rasa masakan nya apalagi kepiting yang me...</td>\n",
       "      <td>positive</td>\n",
       "    </tr>\n",
       "    <tr>\n",
       "      <th>10997</th>\n",
       "      <td>hormati partai-partai yang telah berkoalisi</td>\n",
       "      <td>neutral</td>\n",
       "    </tr>\n",
       "    <tr>\n",
       "      <th>10998</th>\n",
       "      <td>pagi pagi di tol pasteur sudah macet parah , b...</td>\n",
       "      <td>negative</td>\n",
       "    </tr>\n",
       "    <tr>\n",
       "      <th>10999</th>\n",
       "      <td>meskipun sering belanja ke yogya di riau junct...</td>\n",
       "      <td>positive</td>\n",
       "    </tr>\n",
       "  </tbody>\n",
       "</table>\n",
       "<p>11000 rows × 2 columns</p>\n",
       "</div>"
      ],
      "text/plain": [
       "                                                  tweets    labels\n",
       "0      warung ini dimiliki oleh pengusaha pabrik tahu...  positive\n",
       "1      mohon ulama lurus dan k212 mmbri hujjah partai...   neutral\n",
       "2      lokasi strategis di jalan sumatera bandung . t...  positive\n",
       "3      betapa bahagia nya diri ini saat unboxing pake...  positive\n",
       "4      duh . jadi mahasiswa jangan sombong dong . kas...  negative\n",
       "...                                                  ...       ...\n",
       "10995                                       tidak kecewa  positive\n",
       "10996  enak rasa masakan nya apalagi kepiting yang me...  positive\n",
       "10997        hormati partai-partai yang telah berkoalisi   neutral\n",
       "10998  pagi pagi di tol pasteur sudah macet parah , b...  negative\n",
       "10999  meskipun sering belanja ke yogya di riau junct...  positive\n",
       "\n",
       "[11000 rows x 2 columns]"
      ]
     },
     "execution_count": 8,
     "metadata": {},
     "output_type": "execute_result"
    }
   ],
   "source": [
    "df"
   ]
  },
  {
   "cell_type": "markdown",
   "id": "0e8ddd7f",
   "metadata": {},
   "source": [
    "**Menambahkan Unique ID**"
   ]
  },
  {
   "cell_type": "code",
   "execution_count": 9,
   "id": "6df58acf",
   "metadata": {},
   "outputs": [],
   "source": [
    "df['id'] = range(1, len(df)+1)"
   ]
  },
  {
   "cell_type": "code",
   "execution_count": 10,
   "id": "e64090c1",
   "metadata": {},
   "outputs": [
    {
     "data": {
      "text/html": [
       "<div>\n",
       "<style scoped>\n",
       "    .dataframe tbody tr th:only-of-type {\n",
       "        vertical-align: middle;\n",
       "    }\n",
       "\n",
       "    .dataframe tbody tr th {\n",
       "        vertical-align: top;\n",
       "    }\n",
       "\n",
       "    .dataframe thead th {\n",
       "        text-align: right;\n",
       "    }\n",
       "</style>\n",
       "<table border=\"1\" class=\"dataframe\">\n",
       "  <thead>\n",
       "    <tr style=\"text-align: right;\">\n",
       "      <th></th>\n",
       "      <th>tweets</th>\n",
       "      <th>labels</th>\n",
       "      <th>id</th>\n",
       "    </tr>\n",
       "  </thead>\n",
       "  <tbody>\n",
       "    <tr>\n",
       "      <th>0</th>\n",
       "      <td>warung ini dimiliki oleh pengusaha pabrik tahu...</td>\n",
       "      <td>positive</td>\n",
       "      <td>1</td>\n",
       "    </tr>\n",
       "    <tr>\n",
       "      <th>1</th>\n",
       "      <td>mohon ulama lurus dan k212 mmbri hujjah partai...</td>\n",
       "      <td>neutral</td>\n",
       "      <td>2</td>\n",
       "    </tr>\n",
       "    <tr>\n",
       "      <th>2</th>\n",
       "      <td>lokasi strategis di jalan sumatera bandung . t...</td>\n",
       "      <td>positive</td>\n",
       "      <td>3</td>\n",
       "    </tr>\n",
       "    <tr>\n",
       "      <th>3</th>\n",
       "      <td>betapa bahagia nya diri ini saat unboxing pake...</td>\n",
       "      <td>positive</td>\n",
       "      <td>4</td>\n",
       "    </tr>\n",
       "    <tr>\n",
       "      <th>4</th>\n",
       "      <td>duh . jadi mahasiswa jangan sombong dong . kas...</td>\n",
       "      <td>negative</td>\n",
       "      <td>5</td>\n",
       "    </tr>\n",
       "    <tr>\n",
       "      <th>...</th>\n",
       "      <td>...</td>\n",
       "      <td>...</td>\n",
       "      <td>...</td>\n",
       "    </tr>\n",
       "    <tr>\n",
       "      <th>10995</th>\n",
       "      <td>tidak kecewa</td>\n",
       "      <td>positive</td>\n",
       "      <td>10996</td>\n",
       "    </tr>\n",
       "    <tr>\n",
       "      <th>10996</th>\n",
       "      <td>enak rasa masakan nya apalagi kepiting yang me...</td>\n",
       "      <td>positive</td>\n",
       "      <td>10997</td>\n",
       "    </tr>\n",
       "    <tr>\n",
       "      <th>10997</th>\n",
       "      <td>hormati partai-partai yang telah berkoalisi</td>\n",
       "      <td>neutral</td>\n",
       "      <td>10998</td>\n",
       "    </tr>\n",
       "    <tr>\n",
       "      <th>10998</th>\n",
       "      <td>pagi pagi di tol pasteur sudah macet parah , b...</td>\n",
       "      <td>negative</td>\n",
       "      <td>10999</td>\n",
       "    </tr>\n",
       "    <tr>\n",
       "      <th>10999</th>\n",
       "      <td>meskipun sering belanja ke yogya di riau junct...</td>\n",
       "      <td>positive</td>\n",
       "      <td>11000</td>\n",
       "    </tr>\n",
       "  </tbody>\n",
       "</table>\n",
       "<p>11000 rows × 3 columns</p>\n",
       "</div>"
      ],
      "text/plain": [
       "                                                  tweets    labels     id\n",
       "0      warung ini dimiliki oleh pengusaha pabrik tahu...  positive      1\n",
       "1      mohon ulama lurus dan k212 mmbri hujjah partai...   neutral      2\n",
       "2      lokasi strategis di jalan sumatera bandung . t...  positive      3\n",
       "3      betapa bahagia nya diri ini saat unboxing pake...  positive      4\n",
       "4      duh . jadi mahasiswa jangan sombong dong . kas...  negative      5\n",
       "...                                                  ...       ...    ...\n",
       "10995                                       tidak kecewa  positive  10996\n",
       "10996  enak rasa masakan nya apalagi kepiting yang me...  positive  10997\n",
       "10997        hormati partai-partai yang telah berkoalisi   neutral  10998\n",
       "10998  pagi pagi di tol pasteur sudah macet parah , b...  negative  10999\n",
       "10999  meskipun sering belanja ke yogya di riau junct...  positive  11000\n",
       "\n",
       "[11000 rows x 3 columns]"
      ]
     },
     "execution_count": 10,
     "metadata": {},
     "output_type": "execute_result"
    }
   ],
   "source": [
    "df"
   ]
  },
  {
   "cell_type": "markdown",
   "id": "992c1dab",
   "metadata": {},
   "source": [
    "**Check Unique Values**"
   ]
  },
  {
   "cell_type": "code",
   "execution_count": 11,
   "id": "f5ea828a",
   "metadata": {},
   "outputs": [
    {
     "data": {
      "text/plain": [
       "tweets    10933\n",
       "labels        3\n",
       "id        11000\n",
       "dtype: int64"
      ]
     },
     "execution_count": 11,
     "metadata": {},
     "output_type": "execute_result"
    }
   ],
   "source": [
    "df.nunique()"
   ]
  },
  {
   "cell_type": "markdown",
   "id": "4f6a5249",
   "metadata": {},
   "source": [
    "**Check Duplikasi**"
   ]
  },
  {
   "cell_type": "code",
   "execution_count": 12,
   "id": "1fd1bdda",
   "metadata": {},
   "outputs": [
    {
     "data": {
      "text/plain": [
       "67"
      ]
     },
     "execution_count": 12,
     "metadata": {},
     "output_type": "execute_result"
    }
   ],
   "source": [
    "df.duplicated('tweets').sum()"
   ]
  },
  {
   "cell_type": "code",
   "execution_count": 13,
   "id": "cdfc6c84",
   "metadata": {},
   "outputs": [
    {
     "data": {
      "text/plain": [
       "False"
      ]
     },
     "execution_count": 13,
     "metadata": {},
     "output_type": "execute_result"
    }
   ],
   "source": [
    "Counter(df['id']) == Counter(df['tweets'])"
   ]
  },
  {
   "cell_type": "code",
   "execution_count": 14,
   "id": "1ecb6b4b",
   "metadata": {},
   "outputs": [
    {
     "data": {
      "text/html": [
       "<div>\n",
       "<style scoped>\n",
       "    .dataframe tbody tr th:only-of-type {\n",
       "        vertical-align: middle;\n",
       "    }\n",
       "\n",
       "    .dataframe tbody tr th {\n",
       "        vertical-align: top;\n",
       "    }\n",
       "\n",
       "    .dataframe thead th {\n",
       "        text-align: right;\n",
       "    }\n",
       "</style>\n",
       "<table border=\"1\" class=\"dataframe\">\n",
       "  <thead>\n",
       "    <tr style=\"text-align: right;\">\n",
       "      <th></th>\n",
       "      <th>tweets</th>\n",
       "      <th>labels</th>\n",
       "      <th>id</th>\n",
       "    </tr>\n",
       "  </thead>\n",
       "  <tbody>\n",
       "    <tr>\n",
       "      <th>6078</th>\n",
       "      <td>aman gemstone menyediakan berbagai cincin / pe...</td>\n",
       "      <td>neutral</td>\n",
       "      <td>6079</td>\n",
       "    </tr>\n",
       "    <tr>\n",
       "      <th>2616</th>\n",
       "      <td>apresiasi</td>\n",
       "      <td>positive</td>\n",
       "      <td>2617</td>\n",
       "    </tr>\n",
       "    <tr>\n",
       "      <th>10950</th>\n",
       "      <td>bank bca di pgc payah sekali pelayanan nya . j...</td>\n",
       "      <td>negative</td>\n",
       "      <td>10951</td>\n",
       "    </tr>\n",
       "    <tr>\n",
       "      <th>3811</th>\n",
       "      <td>banyak masyarakat yang tidak kecewa dengan kep...</td>\n",
       "      <td>positive</td>\n",
       "      <td>3812</td>\n",
       "    </tr>\n",
       "    <tr>\n",
       "      <th>5184</th>\n",
       "      <td>beli kaos , topi atau jam tangan di lapak mono...</td>\n",
       "      <td>neutral</td>\n",
       "      <td>5185</td>\n",
       "    </tr>\n",
       "    <tr>\n",
       "      <th>...</th>\n",
       "      <td>...</td>\n",
       "      <td>...</td>\n",
       "      <td>...</td>\n",
       "    </tr>\n",
       "    <tr>\n",
       "      <th>8929</th>\n",
       "      <td>tidak malas</td>\n",
       "      <td>positive</td>\n",
       "      <td>8930</td>\n",
       "    </tr>\n",
       "    <tr>\n",
       "      <th>8913</th>\n",
       "      <td>tidak marah</td>\n",
       "      <td>positive</td>\n",
       "      <td>8914</td>\n",
       "    </tr>\n",
       "    <tr>\n",
       "      <th>7083</th>\n",
       "      <td>tidak menyesal</td>\n",
       "      <td>positive</td>\n",
       "      <td>7084</td>\n",
       "    </tr>\n",
       "    <tr>\n",
       "      <th>9636</th>\n",
       "      <td>tidak senang</td>\n",
       "      <td>negative</td>\n",
       "      <td>9637</td>\n",
       "    </tr>\n",
       "    <tr>\n",
       "      <th>9769</th>\n",
       "      <td>wow iya kok hitam mental mahal amat ya kenapa ...</td>\n",
       "      <td>negative</td>\n",
       "      <td>9770</td>\n",
       "    </tr>\n",
       "  </tbody>\n",
       "</table>\n",
       "<p>67 rows × 3 columns</p>\n",
       "</div>"
      ],
      "text/plain": [
       "                                                  tweets    labels     id\n",
       "6078   aman gemstone menyediakan berbagai cincin / pe...   neutral   6079\n",
       "2616                                           apresiasi  positive   2617\n",
       "10950  bank bca di pgc payah sekali pelayanan nya . j...  negative  10951\n",
       "3811   banyak masyarakat yang tidak kecewa dengan kep...  positive   3812\n",
       "5184   beli kaos , topi atau jam tangan di lapak mono...   neutral   5185\n",
       "...                                                  ...       ...    ...\n",
       "8929                                         tidak malas  positive   8930\n",
       "8913                                         tidak marah  positive   8914\n",
       "7083                                      tidak menyesal  positive   7084\n",
       "9636                                        tidak senang  negative   9637\n",
       "9769   wow iya kok hitam mental mahal amat ya kenapa ...  negative   9770\n",
       "\n",
       "[67 rows x 3 columns]"
      ]
     },
     "execution_count": 14,
     "metadata": {},
     "output_type": "execute_result"
    }
   ],
   "source": [
    "df.loc[df.duplicated('tweets')].sort_values(by='tweets', ascending=True)"
   ]
  },
  {
   "cell_type": "code",
   "execution_count": 15,
   "id": "a3b607d5",
   "metadata": {},
   "outputs": [],
   "source": [
    "df = df.drop_duplicates('tweets')"
   ]
  },
  {
   "cell_type": "code",
   "execution_count": 16,
   "id": "13338a4d",
   "metadata": {},
   "outputs": [
    {
     "data": {
      "text/plain": [
       "0"
      ]
     },
     "execution_count": 16,
     "metadata": {},
     "output_type": "execute_result"
    }
   ],
   "source": [
    "df.duplicated('tweets').sum()"
   ]
  },
  {
   "cell_type": "code",
   "execution_count": 17,
   "id": "862ee06c",
   "metadata": {},
   "outputs": [
    {
     "data": {
      "text/plain": [
       "tweets    10933\n",
       "labels        3\n",
       "id        10933\n",
       "dtype: int64"
      ]
     },
     "execution_count": 17,
     "metadata": {},
     "output_type": "execute_result"
    }
   ],
   "source": [
    "df.nunique()"
   ]
  },
  {
   "cell_type": "markdown",
   "id": "562606f3",
   "metadata": {},
   "source": [
    "## Cleansing Punctuation Data"
   ]
  },
  {
   "cell_type": "markdown",
   "id": "65bddc89",
   "metadata": {},
   "source": [
    "**Membuat Fungsi Baru Untuk Process Text**"
   ]
  },
  {
   "cell_type": "code",
   "execution_count": 18,
   "id": "db603ce7",
   "metadata": {},
   "outputs": [],
   "source": [
    "def preprocessing_text(text):\n",
    "    text = text.replace(\"\\\\n\", \" \")\n",
    "    text = re.sub(r\"(#)(.*)()\", r\"\", text)\n",
    "    text = re.sub(r\"[!\\\"#$%&'()*+-./:;<=>?@[\\]^_`{|}~]\", r\"\", text)\n",
    "    text = re.sub(r\"(\\s)(\\1+)\", r\"\\1\", text)\n",
    "    text = re.sub(r\"([a-z])(\\1{3,})\", r\"\\1\\1\", text)\n",
    "    text = re.sub(r\"(\\\\x)([a-z0-9]{2})\", r\"\", text)\n",
    "    text  = re.sub(r\"(\\\\x8)\", r\"\", text)\n",
    "    text = text.lower()\n",
    "    text = text.strip()\n",
    "    return text"
   ]
  },
  {
   "cell_type": "code",
   "execution_count": 19,
   "id": "8757fea4",
   "metadata": {},
   "outputs": [
    {
     "name": "stdout",
     "output_type": "stream",
     "text": [
      "warung ini dimiliki oleh pengusaha pabrik tahu yang sudah puluhan tahun terkenal membuat tahu putih di bandung tahu berkualitas dipadu keahlian memasak dipadu kretivitas jadilah warung yang menyajikan menu utama berbahan tahu ditambah menu umum lain seperti ayam semuanya selera indonesia harga cukup terjangkau jangan lewatkan tahu bletoka nya tidak kalah dengan yang asli dari tegal\n",
      "\n",
      "mohon ulama lurus dan k212 mmbri hujjah partai apa yang harus diwlh agar suara islam tidak pecahpecah\n",
      "\n",
      "lokasi strategis di jalan sumatera bandung tempat nya nyaman terutama sofa di lantai 2 paella nya enak sangat pas dimakan dengan minum bir dingin appetiser nya juga enakenak\n",
      "\n",
      "betapa bahagia nya diri ini saat unboxing paket dan barang nya bagus menetapkan beli lagi\n",
      "\n",
      "duh jadi mahasiswa jangan sombong dong kasih kartu kuning segala belajar dulu yang baik tidak usahlah ikutikut politik nanti sudah selesai kuliah nya mau ikut politik juga tidak telat dasar mahasiswa\n",
      "\n",
      "makanan beragam harga makanan di food stall akan ditambahkan 10 lagi di kasir suasana ramai dan perlu perhatian untuk mendapatkan parkir dan tempat duduk\n",
      "\n",
      "pakai kartu kredit bca tidak untung malah rugi besar\n",
      "\n",
      "tempat unik bagus buat foto makanan enak pegawai ramah bersih dan luas wifi kencang harga standar dan sesuai dengan tempat nya ada menu masakan makanan barat dan indonesia menu favorit lychee mojito dan spagheti\n",
      "\n",
      "saya bersama keluarga baru saja menikmati pengalaman kuliner yang menyenangkan di rm sari sunda di jalan setiabudhi bandung tapi karena tidak ada hubungan untuk rm sari sunda di jalan setiabudhi maka saya tuliskan di sini jadi maaf jika rekanrekan pembaca ada yang bingung beberapa hal yang saya suka dari restoran ini adalah bahwa pelayanan restoran ini terbilang cepat\n",
      "\n",
      "bersyukur\n",
      "\n",
      "simcard indosat inaktiv garagara lupa isi pulsa dan kabar nya aktif jika pinda ke pasca bayar ribet banget\n",
      "\n"
     ]
    }
   ],
   "source": [
    "for idx, x in enumerate(df.tweets.values):\n",
    "    if idx <= 10:\n",
    "        print(preprocessing_text(x))\n",
    "        print(\"\")"
   ]
  },
  {
   "cell_type": "markdown",
   "id": "1d2856cb",
   "metadata": {},
   "source": [
    "**Membuat Tabel Baru Berisi Text yang Sudah di Cleansing**"
   ]
  },
  {
   "cell_type": "code",
   "execution_count": 20,
   "id": "ae378725",
   "metadata": {},
   "outputs": [
    {
     "name": "stderr",
     "output_type": "stream",
     "text": [
      "C:\\Users\\crire\\AppData\\Local\\Temp\\ipykernel_30640\\1952476418.py:1: SettingWithCopyWarning: \n",
      "A value is trying to be set on a copy of a slice from a DataFrame.\n",
      "Try using .loc[row_indexer,col_indexer] = value instead\n",
      "\n",
      "See the caveats in the documentation: https://pandas.pydata.org/pandas-docs/stable/user_guide/indexing.html#returning-a-view-versus-a-copy\n",
      "  df['cleaned_tweets'] = df['tweets'].apply(lambda x: preprocessing_text(x))\n"
     ]
    }
   ],
   "source": [
    "df['cleaned_tweets'] = df['tweets'].apply(lambda x: preprocessing_text(x))"
   ]
  },
  {
   "cell_type": "code",
   "execution_count": 21,
   "id": "1573517d",
   "metadata": {
    "scrolled": true
   },
   "outputs": [
    {
     "data": {
      "text/html": [
       "<div>\n",
       "<style scoped>\n",
       "    .dataframe tbody tr th:only-of-type {\n",
       "        vertical-align: middle;\n",
       "    }\n",
       "\n",
       "    .dataframe tbody tr th {\n",
       "        vertical-align: top;\n",
       "    }\n",
       "\n",
       "    .dataframe thead th {\n",
       "        text-align: right;\n",
       "    }\n",
       "</style>\n",
       "<table border=\"1\" class=\"dataframe\">\n",
       "  <thead>\n",
       "    <tr style=\"text-align: right;\">\n",
       "      <th></th>\n",
       "      <th>tweets</th>\n",
       "      <th>labels</th>\n",
       "      <th>id</th>\n",
       "      <th>cleaned_tweets</th>\n",
       "    </tr>\n",
       "  </thead>\n",
       "  <tbody>\n",
       "    <tr>\n",
       "      <th>0</th>\n",
       "      <td>warung ini dimiliki oleh pengusaha pabrik tahu...</td>\n",
       "      <td>positive</td>\n",
       "      <td>1</td>\n",
       "      <td>warung ini dimiliki oleh pengusaha pabrik tahu...</td>\n",
       "    </tr>\n",
       "    <tr>\n",
       "      <th>1</th>\n",
       "      <td>mohon ulama lurus dan k212 mmbri hujjah partai...</td>\n",
       "      <td>neutral</td>\n",
       "      <td>2</td>\n",
       "      <td>mohon ulama lurus dan k212 mmbri hujjah partai...</td>\n",
       "    </tr>\n",
       "    <tr>\n",
       "      <th>2</th>\n",
       "      <td>lokasi strategis di jalan sumatera bandung . t...</td>\n",
       "      <td>positive</td>\n",
       "      <td>3</td>\n",
       "      <td>lokasi strategis di jalan sumatera bandung tem...</td>\n",
       "    </tr>\n",
       "    <tr>\n",
       "      <th>3</th>\n",
       "      <td>betapa bahagia nya diri ini saat unboxing pake...</td>\n",
       "      <td>positive</td>\n",
       "      <td>4</td>\n",
       "      <td>betapa bahagia nya diri ini saat unboxing pake...</td>\n",
       "    </tr>\n",
       "    <tr>\n",
       "      <th>4</th>\n",
       "      <td>duh . jadi mahasiswa jangan sombong dong . kas...</td>\n",
       "      <td>negative</td>\n",
       "      <td>5</td>\n",
       "      <td>duh jadi mahasiswa jangan sombong dong kasih k...</td>\n",
       "    </tr>\n",
       "    <tr>\n",
       "      <th>...</th>\n",
       "      <td>...</td>\n",
       "      <td>...</td>\n",
       "      <td>...</td>\n",
       "      <td>...</td>\n",
       "    </tr>\n",
       "    <tr>\n",
       "      <th>10993</th>\n",
       "      <td>f - demokrat dorong upaya kemandirian energi n...</td>\n",
       "      <td>neutral</td>\n",
       "      <td>10994</td>\n",
       "      <td>f demokrat dorong upaya kemandirian energi nas...</td>\n",
       "    </tr>\n",
       "    <tr>\n",
       "      <th>10994</th>\n",
       "      <td>tidak bosan</td>\n",
       "      <td>positive</td>\n",
       "      <td>10995</td>\n",
       "      <td>tidak bosan</td>\n",
       "    </tr>\n",
       "    <tr>\n",
       "      <th>10996</th>\n",
       "      <td>enak rasa masakan nya apalagi kepiting yang me...</td>\n",
       "      <td>positive</td>\n",
       "      <td>10997</td>\n",
       "      <td>enak rasa masakan nya apalagi kepiting yang me...</td>\n",
       "    </tr>\n",
       "    <tr>\n",
       "      <th>10998</th>\n",
       "      <td>pagi pagi di tol pasteur sudah macet parah , b...</td>\n",
       "      <td>negative</td>\n",
       "      <td>10999</td>\n",
       "      <td>pagi pagi di tol pasteur sudah macet parah bik...</td>\n",
       "    </tr>\n",
       "    <tr>\n",
       "      <th>10999</th>\n",
       "      <td>meskipun sering belanja ke yogya di riau junct...</td>\n",
       "      <td>positive</td>\n",
       "      <td>11000</td>\n",
       "      <td>meskipun sering belanja ke yogya di riau junct...</td>\n",
       "    </tr>\n",
       "  </tbody>\n",
       "</table>\n",
       "<p>10933 rows × 4 columns</p>\n",
       "</div>"
      ],
      "text/plain": [
       "                                                  tweets    labels     id  \\\n",
       "0      warung ini dimiliki oleh pengusaha pabrik tahu...  positive      1   \n",
       "1      mohon ulama lurus dan k212 mmbri hujjah partai...   neutral      2   \n",
       "2      lokasi strategis di jalan sumatera bandung . t...  positive      3   \n",
       "3      betapa bahagia nya diri ini saat unboxing pake...  positive      4   \n",
       "4      duh . jadi mahasiswa jangan sombong dong . kas...  negative      5   \n",
       "...                                                  ...       ...    ...   \n",
       "10993  f - demokrat dorong upaya kemandirian energi n...   neutral  10994   \n",
       "10994                                        tidak bosan  positive  10995   \n",
       "10996  enak rasa masakan nya apalagi kepiting yang me...  positive  10997   \n",
       "10998  pagi pagi di tol pasteur sudah macet parah , b...  negative  10999   \n",
       "10999  meskipun sering belanja ke yogya di riau junct...  positive  11000   \n",
       "\n",
       "                                          cleaned_tweets  \n",
       "0      warung ini dimiliki oleh pengusaha pabrik tahu...  \n",
       "1      mohon ulama lurus dan k212 mmbri hujjah partai...  \n",
       "2      lokasi strategis di jalan sumatera bandung tem...  \n",
       "3      betapa bahagia nya diri ini saat unboxing pake...  \n",
       "4      duh jadi mahasiswa jangan sombong dong kasih k...  \n",
       "...                                                  ...  \n",
       "10993  f demokrat dorong upaya kemandirian energi nas...  \n",
       "10994                                        tidak bosan  \n",
       "10996  enak rasa masakan nya apalagi kepiting yang me...  \n",
       "10998  pagi pagi di tol pasteur sudah macet parah bik...  \n",
       "10999  meskipun sering belanja ke yogya di riau junct...  \n",
       "\n",
       "[10933 rows x 4 columns]"
      ]
     },
     "execution_count": 21,
     "metadata": {},
     "output_type": "execute_result"
    }
   ],
   "source": [
    "df"
   ]
  },
  {
   "cell_type": "markdown",
   "id": "941a969c",
   "metadata": {},
   "source": [
    "## Model Preparation (Feature Extraction)"
   ]
  },
  {
   "cell_type": "markdown",
   "id": "af8f2231",
   "metadata": {},
   "source": [
    "**Data Split untuk Train dan Validation**"
   ]
  },
  {
   "cell_type": "code",
   "execution_count": 22,
   "id": "ce9ffd39",
   "metadata": {},
   "outputs": [],
   "source": [
    "from sklearn.model_selection import train_test_split\n",
    "from sklearn.feature_extraction.text import TfidfVectorizer\n",
    "from sklearn.linear_model import LogisticRegression\n",
    "from sklearn.metrics import precision_recall_fscore_support, accuracy_score\n",
    "from sklearn.preprocessing import LabelEncoder"
   ]
  },
  {
   "cell_type": "code",
   "execution_count": 23,
   "id": "f887de50",
   "metadata": {},
   "outputs": [],
   "source": [
    "train, test = train_test_split(df, test_size=0.2, random_state=0)\n",
    "#test size yang digunakan adalah 0,2 untuk mendapatkan data train dan test dengan perbandingan 80:20"
   ]
  },
  {
   "cell_type": "code",
   "execution_count": 24,
   "id": "c2390aa6",
   "metadata": {},
   "outputs": [
    {
     "data": {
      "text/html": [
       "<div>\n",
       "<style scoped>\n",
       "    .dataframe tbody tr th:only-of-type {\n",
       "        vertical-align: middle;\n",
       "    }\n",
       "\n",
       "    .dataframe tbody tr th {\n",
       "        vertical-align: top;\n",
       "    }\n",
       "\n",
       "    .dataframe thead th {\n",
       "        text-align: right;\n",
       "    }\n",
       "</style>\n",
       "<table border=\"1\" class=\"dataframe\">\n",
       "  <thead>\n",
       "    <tr style=\"text-align: right;\">\n",
       "      <th></th>\n",
       "      <th>tweets</th>\n",
       "      <th>labels</th>\n",
       "      <th>id</th>\n",
       "      <th>cleaned_tweets</th>\n",
       "    </tr>\n",
       "  </thead>\n",
       "  <tbody>\n",
       "    <tr>\n",
       "      <th>3049</th>\n",
       "      <td>menyajikan macam-macam makanan jepang yang seg...</td>\n",
       "      <td>positive</td>\n",
       "      <td>3050</td>\n",
       "      <td>menyajikan macammacam makanan jepang yang sega...</td>\n",
       "    </tr>\n",
       "    <tr>\n",
       "      <th>6416</th>\n",
       "      <td>tempat yang asri sekali , makanan nya enak unt...</td>\n",
       "      <td>positive</td>\n",
       "      <td>6417</td>\n",
       "      <td>tempat yang asri sekali makanan nya enak untuk...</td>\n",
       "    </tr>\n",
       "    <tr>\n",
       "      <th>4638</th>\n",
       "      <td>kami dan keluarga heran di bandung itu setiap ...</td>\n",
       "      <td>positive</td>\n",
       "      <td>4639</td>\n",
       "      <td>kami dan keluarga heran di bandung itu setiap ...</td>\n",
       "    </tr>\n",
       "    <tr>\n",
       "      <th>384</th>\n",
       "      <td>untuk rasa biasa saja tidak membuat saya terke...</td>\n",
       "      <td>negative</td>\n",
       "      <td>385</td>\n",
       "      <td>untuk rasa biasa saja tidak membuat saya terke...</td>\n",
       "    </tr>\n",
       "    <tr>\n",
       "      <th>7757</th>\n",
       "      <td>baru saja kami sekeluarga makan di congo , ber...</td>\n",
       "      <td>positive</td>\n",
       "      <td>7758</td>\n",
       "      <td>baru saja kami sekeluarga makan di congo berma...</td>\n",
       "    </tr>\n",
       "    <tr>\n",
       "      <th>...</th>\n",
       "      <td>...</td>\n",
       "      <td>...</td>\n",
       "      <td>...</td>\n",
       "      <td>...</td>\n",
       "    </tr>\n",
       "    <tr>\n",
       "      <th>4872</th>\n",
       "      <td>aqua adalah merek air mineral favorit ku</td>\n",
       "      <td>positive</td>\n",
       "      <td>4873</td>\n",
       "      <td>aqua adalah merek air mineral favorit ku</td>\n",
       "    </tr>\n",
       "    <tr>\n",
       "      <th>3271</th>\n",
       "      <td>buat dipakai jadi kacamata baca juga asik dan ...</td>\n",
       "      <td>positive</td>\n",
       "      <td>3272</td>\n",
       "      <td>buat dipakai jadi kacamata baca juga asik dan ...</td>\n",
       "    </tr>\n",
       "    <tr>\n",
       "      <th>9902</th>\n",
       "      <td>terkuat</td>\n",
       "      <td>positive</td>\n",
       "      <td>9903</td>\n",
       "      <td>terkuat</td>\n",
       "    </tr>\n",
       "    <tr>\n",
       "      <th>10860</th>\n",
       "      <td>kita dapat pemandangan yang cukup lepas berada...</td>\n",
       "      <td>positive</td>\n",
       "      <td>10861</td>\n",
       "      <td>kita dapat pemandangan yang cukup lepas berada...</td>\n",
       "    </tr>\n",
       "    <tr>\n",
       "      <th>2737</th>\n",
       "      <td>aku tidak pernah jenuh dengan setiap keputusan...</td>\n",
       "      <td>positive</td>\n",
       "      <td>2738</td>\n",
       "      <td>aku tidak pernah jenuh dengan setiap keputusan...</td>\n",
       "    </tr>\n",
       "  </tbody>\n",
       "</table>\n",
       "<p>8746 rows × 4 columns</p>\n",
       "</div>"
      ],
      "text/plain": [
       "                                                  tweets    labels     id  \\\n",
       "3049   menyajikan macam-macam makanan jepang yang seg...  positive   3050   \n",
       "6416   tempat yang asri sekali , makanan nya enak unt...  positive   6417   \n",
       "4638   kami dan keluarga heran di bandung itu setiap ...  positive   4639   \n",
       "384    untuk rasa biasa saja tidak membuat saya terke...  negative    385   \n",
       "7757   baru saja kami sekeluarga makan di congo , ber...  positive   7758   \n",
       "...                                                  ...       ...    ...   \n",
       "4872            aqua adalah merek air mineral favorit ku  positive   4873   \n",
       "3271   buat dipakai jadi kacamata baca juga asik dan ...  positive   3272   \n",
       "9902                                             terkuat  positive   9903   \n",
       "10860  kita dapat pemandangan yang cukup lepas berada...  positive  10861   \n",
       "2737   aku tidak pernah jenuh dengan setiap keputusan...  positive   2738   \n",
       "\n",
       "                                          cleaned_tweets  \n",
       "3049   menyajikan macammacam makanan jepang yang sega...  \n",
       "6416   tempat yang asri sekali makanan nya enak untuk...  \n",
       "4638   kami dan keluarga heran di bandung itu setiap ...  \n",
       "384    untuk rasa biasa saja tidak membuat saya terke...  \n",
       "7757   baru saja kami sekeluarga makan di congo berma...  \n",
       "...                                                  ...  \n",
       "4872            aqua adalah merek air mineral favorit ku  \n",
       "3271   buat dipakai jadi kacamata baca juga asik dan ...  \n",
       "9902                                             terkuat  \n",
       "10860  kita dapat pemandangan yang cukup lepas berada...  \n",
       "2737   aku tidak pernah jenuh dengan setiap keputusan...  \n",
       "\n",
       "[8746 rows x 4 columns]"
      ]
     },
     "execution_count": 24,
     "metadata": {},
     "output_type": "execute_result"
    }
   ],
   "source": [
    "train"
   ]
  },
  {
   "cell_type": "code",
   "execution_count": 25,
   "id": "b8f0967c",
   "metadata": {},
   "outputs": [],
   "source": [
    "tfidf = TfidfVectorizer()"
   ]
  },
  {
   "cell_type": "code",
   "execution_count": 26,
   "id": "3302e4c9",
   "metadata": {},
   "outputs": [],
   "source": [
    "X_train = tfidf.fit_transform(train['cleaned_tweets'])\n",
    "X_test = tfidf.transform(test['cleaned_tweets'])"
   ]
  },
  {
   "cell_type": "markdown",
   "id": "118a72d6",
   "metadata": {},
   "source": [
    "**Prediksi Akurasi Model**"
   ]
  },
  {
   "cell_type": "code",
   "execution_count": 27,
   "id": "1c84870e",
   "metadata": {},
   "outputs": [],
   "source": [
    "lr = LogisticRegression()"
   ]
  },
  {
   "cell_type": "code",
   "execution_count": 28,
   "id": "4addb2a6",
   "metadata": {},
   "outputs": [
    {
     "name": "stderr",
     "output_type": "stream",
     "text": [
      "C:\\Users\\crire\\AppData\\Local\\Programs\\Python\\Python311\\Lib\\site-packages\\sklearn\\linear_model\\_logistic.py:458: ConvergenceWarning: lbfgs failed to converge (status=1):\n",
      "STOP: TOTAL NO. of ITERATIONS REACHED LIMIT.\n",
      "\n",
      "Increase the number of iterations (max_iter) or scale the data as shown in:\n",
      "    https://scikit-learn.org/stable/modules/preprocessing.html\n",
      "Please also refer to the documentation for alternative solver options:\n",
      "    https://scikit-learn.org/stable/modules/linear_model.html#logistic-regression\n",
      "  n_iter_i = _check_optimize_result(\n"
     ]
    },
    {
     "data": {
      "text/html": [
       "<style>#sk-container-id-1 {color: black;background-color: white;}#sk-container-id-1 pre{padding: 0;}#sk-container-id-1 div.sk-toggleable {background-color: white;}#sk-container-id-1 label.sk-toggleable__label {cursor: pointer;display: block;width: 100%;margin-bottom: 0;padding: 0.3em;box-sizing: border-box;text-align: center;}#sk-container-id-1 label.sk-toggleable__label-arrow:before {content: \"▸\";float: left;margin-right: 0.25em;color: #696969;}#sk-container-id-1 label.sk-toggleable__label-arrow:hover:before {color: black;}#sk-container-id-1 div.sk-estimator:hover label.sk-toggleable__label-arrow:before {color: black;}#sk-container-id-1 div.sk-toggleable__content {max-height: 0;max-width: 0;overflow: hidden;text-align: left;background-color: #f0f8ff;}#sk-container-id-1 div.sk-toggleable__content pre {margin: 0.2em;color: black;border-radius: 0.25em;background-color: #f0f8ff;}#sk-container-id-1 input.sk-toggleable__control:checked~div.sk-toggleable__content {max-height: 200px;max-width: 100%;overflow: auto;}#sk-container-id-1 input.sk-toggleable__control:checked~label.sk-toggleable__label-arrow:before {content: \"▾\";}#sk-container-id-1 div.sk-estimator input.sk-toggleable__control:checked~label.sk-toggleable__label {background-color: #d4ebff;}#sk-container-id-1 div.sk-label input.sk-toggleable__control:checked~label.sk-toggleable__label {background-color: #d4ebff;}#sk-container-id-1 input.sk-hidden--visually {border: 0;clip: rect(1px 1px 1px 1px);clip: rect(1px, 1px, 1px, 1px);height: 1px;margin: -1px;overflow: hidden;padding: 0;position: absolute;width: 1px;}#sk-container-id-1 div.sk-estimator {font-family: monospace;background-color: #f0f8ff;border: 1px dotted black;border-radius: 0.25em;box-sizing: border-box;margin-bottom: 0.5em;}#sk-container-id-1 div.sk-estimator:hover {background-color: #d4ebff;}#sk-container-id-1 div.sk-parallel-item::after {content: \"\";width: 100%;border-bottom: 1px solid gray;flex-grow: 1;}#sk-container-id-1 div.sk-label:hover label.sk-toggleable__label {background-color: #d4ebff;}#sk-container-id-1 div.sk-serial::before {content: \"\";position: absolute;border-left: 1px solid gray;box-sizing: border-box;top: 0;bottom: 0;left: 50%;z-index: 0;}#sk-container-id-1 div.sk-serial {display: flex;flex-direction: column;align-items: center;background-color: white;padding-right: 0.2em;padding-left: 0.2em;position: relative;}#sk-container-id-1 div.sk-item {position: relative;z-index: 1;}#sk-container-id-1 div.sk-parallel {display: flex;align-items: stretch;justify-content: center;background-color: white;position: relative;}#sk-container-id-1 div.sk-item::before, #sk-container-id-1 div.sk-parallel-item::before {content: \"\";position: absolute;border-left: 1px solid gray;box-sizing: border-box;top: 0;bottom: 0;left: 50%;z-index: -1;}#sk-container-id-1 div.sk-parallel-item {display: flex;flex-direction: column;z-index: 1;position: relative;background-color: white;}#sk-container-id-1 div.sk-parallel-item:first-child::after {align-self: flex-end;width: 50%;}#sk-container-id-1 div.sk-parallel-item:last-child::after {align-self: flex-start;width: 50%;}#sk-container-id-1 div.sk-parallel-item:only-child::after {width: 0;}#sk-container-id-1 div.sk-dashed-wrapped {border: 1px dashed gray;margin: 0 0.4em 0.5em 0.4em;box-sizing: border-box;padding-bottom: 0.4em;background-color: white;}#sk-container-id-1 div.sk-label label {font-family: monospace;font-weight: bold;display: inline-block;line-height: 1.2em;}#sk-container-id-1 div.sk-label-container {text-align: center;}#sk-container-id-1 div.sk-container {/* jupyter's `normalize.less` sets `[hidden] { display: none; }` but bootstrap.min.css set `[hidden] { display: none !important; }` so we also need the `!important` here to be able to override the default hidden behavior on the sphinx rendered scikit-learn.org. See: https://github.com/scikit-learn/scikit-learn/issues/21755 */display: inline-block !important;position: relative;}#sk-container-id-1 div.sk-text-repr-fallback {display: none;}</style><div id=\"sk-container-id-1\" class=\"sk-top-container\"><div class=\"sk-text-repr-fallback\"><pre>LogisticRegression()</pre><b>In a Jupyter environment, please rerun this cell to show the HTML representation or trust the notebook. <br />On GitHub, the HTML representation is unable to render, please try loading this page with nbviewer.org.</b></div><div class=\"sk-container\" hidden><div class=\"sk-item\"><div class=\"sk-estimator sk-toggleable\"><input class=\"sk-toggleable__control sk-hidden--visually\" id=\"sk-estimator-id-1\" type=\"checkbox\" checked><label for=\"sk-estimator-id-1\" class=\"sk-toggleable__label sk-toggleable__label-arrow\">LogisticRegression</label><div class=\"sk-toggleable__content\"><pre>LogisticRegression()</pre></div></div></div></div></div>"
      ],
      "text/plain": [
       "LogisticRegression()"
      ]
     },
     "execution_count": 28,
     "metadata": {},
     "output_type": "execute_result"
    }
   ],
   "source": [
    "lr.fit(X_train, train['labels'])"
   ]
  },
  {
   "cell_type": "code",
   "execution_count": 29,
   "id": "f2cebae6",
   "metadata": {
    "scrolled": true
   },
   "outputs": [
    {
     "name": "stdout",
     "output_type": "stream",
     "text": [
      "(0.860462504036231, 0.8123939676534606, 0.8317448061253215, None)\n",
      "0.8710562414266118\n"
     ]
    }
   ],
   "source": [
    "y_pred = lr.predict(X_test)\n",
    "print(precision_recall_fscore_support(y_pred=y_pred, y_true=test['labels'], average='macro'))\n",
    "print(accuracy_score(y_pred=y_pred, y_true=test['labels']))"
   ]
  },
  {
   "cell_type": "code",
   "execution_count": 30,
   "id": "33fc08af",
   "metadata": {},
   "outputs": [],
   "source": [
    "from tensorflow.keras.preprocessing.text import Tokenizer\n",
    "from tensorflow.keras.preprocessing.sequence import pad_sequences"
   ]
  },
  {
   "cell_type": "code",
   "execution_count": 31,
   "id": "2e4cadd7",
   "metadata": {},
   "outputs": [],
   "source": [
    "max_features = 100"
   ]
  },
  {
   "cell_type": "code",
   "execution_count": 32,
   "id": "915bd159",
   "metadata": {},
   "outputs": [],
   "source": [
    "tknzr = Tokenizer(num_words=max_features, split=' ', lower=True)"
   ]
  },
  {
   "cell_type": "code",
   "execution_count": 33,
   "id": "68eaa12a",
   "metadata": {},
   "outputs": [],
   "source": [
    "X_train = tknzr.fit_on_texts(train['cleaned_tweets'])\n",
    "X_train = tknzr.texts_to_sequences(train['cleaned_tweets'])\n",
    "X_train = pad_sequences(X_train, maxlen=max_features)\n",
    "\n",
    "X_test = tknzr.texts_to_sequences(test['cleaned_tweets'])\n",
    "X_test = pad_sequences(X_test, maxlen=max_features)"
   ]
  },
  {
   "cell_type": "markdown",
   "id": "a6d70087",
   "metadata": {},
   "source": [
    "**Memeriksa data Overfitting**"
   ]
  },
  {
   "cell_type": "code",
   "execution_count": 34,
   "id": "9aed4893",
   "metadata": {},
   "outputs": [
    {
     "ename": "ModuleNotFoundError",
     "evalue": "No module named 'imblearn'",
     "output_type": "error",
     "traceback": [
      "\u001b[1;31m---------------------------------------------------------------------------\u001b[0m",
      "\u001b[1;31mModuleNotFoundError\u001b[0m                       Traceback (most recent call last)",
      "Cell \u001b[1;32mIn[34], line 1\u001b[0m\n\u001b[1;32m----> 1\u001b[0m \u001b[38;5;28;01mfrom\u001b[39;00m \u001b[38;5;21;01mimblearn\u001b[39;00m\u001b[38;5;21;01m.\u001b[39;00m\u001b[38;5;21;01mover_sampling\u001b[39;00m \u001b[38;5;28;01mimport\u001b[39;00m SMOTE\n",
      "\u001b[1;31mModuleNotFoundError\u001b[0m: No module named 'imblearn'"
     ]
    }
   ],
   "source": [
    "from imblearn.over_sampling import SMOTE"
   ]
  },
  {
   "cell_type": "code",
   "execution_count": 35,
   "id": "29ff8bf2",
   "metadata": {},
   "outputs": [
    {
     "ename": "NameError",
     "evalue": "name 'SMOTE' is not defined",
     "output_type": "error",
     "traceback": [
      "\u001b[1;31m---------------------------------------------------------------------------\u001b[0m",
      "\u001b[1;31mNameError\u001b[0m                                 Traceback (most recent call last)",
      "Cell \u001b[1;32mIn[35], line 1\u001b[0m\n\u001b[1;32m----> 1\u001b[0m smote \u001b[38;5;241m=\u001b[39m \u001b[43mSMOTE\u001b[49m()\n",
      "\u001b[1;31mNameError\u001b[0m: name 'SMOTE' is not defined"
     ]
    }
   ],
   "source": [
    "smote = SMOTE()"
   ]
  },
  {
   "cell_type": "code",
   "execution_count": 56,
   "id": "5a0406ae",
   "metadata": {},
   "outputs": [
    {
     "data": {
      "text/plain": [
       "Counter({'positive': 5121, 'negative': 2723, 'neutral': 902})"
      ]
     },
     "execution_count": 56,
     "metadata": {},
     "output_type": "execute_result"
    }
   ],
   "source": [
    "Counter(train['labels'])"
   ]
  },
  {
   "cell_type": "code",
   "execution_count": 57,
   "id": "943cd251",
   "metadata": {},
   "outputs": [],
   "source": [
    "X_train, y_train = smote.fit_resample(X_train, train['labels'])"
   ]
  },
  {
   "cell_type": "code",
   "execution_count": 58,
   "id": "3859dae9",
   "metadata": {},
   "outputs": [
    {
     "data": {
      "text/plain": [
       "Counter({'positive': 5121, 'negative': 5121, 'neutral': 5121})"
      ]
     },
     "execution_count": 58,
     "metadata": {},
     "output_type": "execute_result"
    }
   ],
   "source": [
    "Counter(y_train)"
   ]
  },
  {
   "cell_type": "markdown",
   "id": "70aee473",
   "metadata": {},
   "source": [
    "**Mengubah Categorical Variables menjadi Numerical Values Pada Label**"
   ]
  },
  {
   "cell_type": "code",
   "execution_count": 59,
   "id": "531726a3",
   "metadata": {},
   "outputs": [],
   "source": [
    "from tensorflow.keras.utils import to_categorical"
   ]
  },
  {
   "cell_type": "code",
   "execution_count": 60,
   "id": "d86f15fb",
   "metadata": {},
   "outputs": [],
   "source": [
    "lb = LabelEncoder()"
   ]
  },
  {
   "cell_type": "code",
   "execution_count": 61,
   "id": "41a2f148",
   "metadata": {},
   "outputs": [],
   "source": [
    "y_train_encoded = to_categorical(lb.fit_transform(y_train))\n",
    "y_test_encoded = to_categorical(lb.transform(test['labels']))"
   ]
  },
  {
   "cell_type": "code",
   "execution_count": 62,
   "id": "63be729a",
   "metadata": {},
   "outputs": [
    {
     "data": {
      "text/plain": [
       "(15363, 3)"
      ]
     },
     "execution_count": 62,
     "metadata": {},
     "output_type": "execute_result"
    }
   ],
   "source": [
    "y_train_encoded.shape"
   ]
  },
  {
   "cell_type": "code",
   "execution_count": 63,
   "id": "56ef6615",
   "metadata": {},
   "outputs": [
    {
     "data": {
      "text/plain": [
       "(15363, 100)"
      ]
     },
     "execution_count": 63,
     "metadata": {},
     "output_type": "execute_result"
    }
   ],
   "source": [
    "X_train.shape"
   ]
  },
  {
   "cell_type": "code",
   "execution_count": 115,
   "id": "937c4f48",
   "metadata": {},
   "outputs": [
    {
     "data": {
      "text/plain": [
       "(2187, 3)"
      ]
     },
     "execution_count": 115,
     "metadata": {},
     "output_type": "execute_result"
    }
   ],
   "source": [
    "y_test_encoded.shape"
   ]
  },
  {
   "cell_type": "code",
   "execution_count": 65,
   "id": "74929091",
   "metadata": {},
   "outputs": [
    {
     "data": {
      "text/plain": [
       "(2187, 100)"
      ]
     },
     "execution_count": 65,
     "metadata": {},
     "output_type": "execute_result"
    }
   ],
   "source": [
    "X_test.shape"
   ]
  },
  {
   "cell_type": "markdown",
   "id": "adf3bc3c",
   "metadata": {},
   "source": [
    "## Model Training ##"
   ]
  },
  {
   "cell_type": "code",
   "execution_count": 48,
   "id": "70eb7c4e",
   "metadata": {},
   "outputs": [],
   "source": [
    "import tensorflow as tf"
   ]
  },
  {
   "cell_type": "code",
   "execution_count": 84,
   "id": "24b38e7d",
   "metadata": {},
   "outputs": [],
   "source": [
    "from tensorflow.keras.models import Sequential\n",
    "from tensorflow.keras.layers import Dense, Embedding, LSTM, SpatialDropout1D\n",
    "from tensorflow.keras import optimizers\n",
    "from tensorflow.keras.callbacks import EarlyStopping, TensorBoard\n",
    "from tensorflow.keras.layers import Flatten\n",
    "from tensorflow.keras import backend as K\n",
    "from tensorflow.keras import layers\n",
    "from tensorflow.keras.utils import plot_model"
   ]
  },
  {
   "cell_type": "code",
   "execution_count": 66,
   "id": "d6a33a6b",
   "metadata": {},
   "outputs": [
    {
     "data": {
      "text/plain": [
       "100"
      ]
     },
     "execution_count": 66,
     "metadata": {},
     "output_type": "execute_result"
    }
   ],
   "source": [
    "tknzr.num_words"
   ]
  },
  {
   "cell_type": "code",
   "execution_count": 69,
   "id": "0aae9a5f",
   "metadata": {},
   "outputs": [],
   "source": [
    "embed_dim = 512\n",
    "maxlen = 1000\n",
    "\n",
    "model = Sequential()\n",
    "model.add(Embedding(input_dim=(tknzr.num_words), output_dim=embed_dim, input_length=max_features ))\n",
    "model.add(LSTM(256))\n",
    "model.add(Dense(128, activation='relu'))\n",
    "model.add(Dense(64, activation='relu'))\n",
    "model.add(Dense(3, activation='softmax'))"
   ]
  },
  {
   "cell_type": "code",
   "execution_count": 70,
   "id": "44b7f0b7",
   "metadata": {
    "scrolled": true
   },
   "outputs": [
    {
     "name": "stdout",
     "output_type": "stream",
     "text": [
      "Model: \"sequential_1\"\n",
      "_________________________________________________________________\n",
      " Layer (type)                Output Shape              Param #   \n",
      "=================================================================\n",
      " embedding_1 (Embedding)     (None, 100, 512)          51200     \n",
      "                                                                 \n",
      " lstm_1 (LSTM)               (None, 256)               787456    \n",
      "                                                                 \n",
      " dense_3 (Dense)             (None, 128)               32896     \n",
      "                                                                 \n",
      " dense_4 (Dense)             (None, 64)                8256      \n",
      "                                                                 \n",
      " dense_5 (Dense)             (None, 3)                 195       \n",
      "                                                                 \n",
      "=================================================================\n",
      "Total params: 880,003\n",
      "Trainable params: 880,003\n",
      "Non-trainable params: 0\n",
      "_________________________________________________________________\n",
      "None\n"
     ]
    }
   ],
   "source": [
    "model.compile(loss='categorical_crossentropy', optimizer='adam', metrics=['accuracy'])\n",
    "print(model.summary())\n",
    "\n",
    "es = EarlyStopping(monitor='val_loss', mode='min', verbose=1)"
   ]
  },
  {
   "cell_type": "code",
   "execution_count": 71,
   "id": "4aac7970",
   "metadata": {},
   "outputs": [],
   "source": [
    "tf.config.run_functions_eagerly(True)"
   ]
  },
  {
   "cell_type": "code",
   "execution_count": 72,
   "id": "33e04afe",
   "metadata": {},
   "outputs": [
    {
     "name": "stderr",
     "output_type": "stream",
     "text": [
      "C:\\Users\\Risky Maulana\\AppData\\Roaming\\Python\\Python311\\site-packages\\tensorflow\\python\\data\\ops\\structured_function.py:254: UserWarning: Even though the `tf.config.experimental_run_functions_eagerly` option is set, this option does not apply to tf.data functions. To force eager execution of tf.data functions, please use `tf.data.experimental.enable_debug_mode()`.\n",
      "  warnings.warn(\n"
     ]
    },
    {
     "name": "stdout",
     "output_type": "stream",
     "text": [
      "Epoch 1/10\n",
      "769/769 [==============================] - 819s 1s/step - loss: 0.6868 - accuracy: 0.7081 - val_loss: 0.6585 - val_accuracy: 0.7439\n",
      "Epoch 2/10\n",
      "769/769 [==============================] - 814s 1s/step - loss: 0.6264 - accuracy: 0.7399 - val_loss: 0.5510 - val_accuracy: 0.7732\n",
      "Epoch 3/10\n",
      "769/769 [==============================] - 853s 1s/step - loss: 0.5942 - accuracy: 0.7521 - val_loss: 0.5258 - val_accuracy: 0.7714\n",
      "Epoch 4/10\n",
      "769/769 [==============================] - 784s 1s/step - loss: 0.5625 - accuracy: 0.7627 - val_loss: 0.5250 - val_accuracy: 0.7897\n",
      "Epoch 5/10\n",
      "769/769 [==============================] - 780s 1s/step - loss: 0.5279 - accuracy: 0.7818 - val_loss: 0.5523 - val_accuracy: 0.7695\n",
      "Epoch 5: early stopping\n"
     ]
    }
   ],
   "source": [
    "history = model.fit(X_train, \n",
    "                    y_train_encoded, \n",
    "                    epochs=10, \n",
    "                    batch_size=20, \n",
    "                    validation_data=(X_test, y_test_encoded), \n",
    "                    verbose=1, \n",
    "                    callbacks=[es])"
   ]
  },
  {
   "cell_type": "markdown",
   "id": "c47c33fe",
   "metadata": {},
   "source": [
    "## Model Prediction ##"
   ]
  },
  {
   "cell_type": "code",
   "execution_count": 73,
   "id": "7e2c3e5c",
   "metadata": {
    "scrolled": true
   },
   "outputs": [
    {
     "name": "stdout",
     "output_type": "stream",
     "text": [
      "69/69 [==============================] - 27s 373ms/step\n"
     ]
    }
   ],
   "source": [
    "model_predict = model.predict(X_test)"
   ]
  },
  {
   "cell_type": "code",
   "execution_count": 74,
   "id": "edc2c297",
   "metadata": {},
   "outputs": [
    {
     "data": {
      "text/plain": [
       "array([[2.2142121e-04, 2.0167226e-06, 9.9977654e-01],\n",
       "       [1.7675197e-01, 8.0870008e-01, 1.4547927e-02],\n",
       "       [4.0124080e-01, 9.4584823e-03, 5.8930075e-01],\n",
       "       ...,\n",
       "       [1.3549669e-02, 5.6858850e-04, 9.8588169e-01],\n",
       "       [9.9261606e-01, 6.7763194e-03, 6.0767477e-04],\n",
       "       [5.9552379e-03, 1.3351407e-04, 9.9391127e-01]], dtype=float32)"
      ]
     },
     "execution_count": 74,
     "metadata": {},
     "output_type": "execute_result"
    }
   ],
   "source": [
    "model_predict"
   ]
  },
  {
   "cell_type": "code",
   "execution_count": 75,
   "id": "09534caa",
   "metadata": {},
   "outputs": [],
   "source": [
    "model_predict = np.argmax(model_predict,axis=1)"
   ]
  },
  {
   "cell_type": "code",
   "execution_count": 76,
   "id": "981f49a5",
   "metadata": {},
   "outputs": [
    {
     "data": {
      "text/plain": [
       "array([2, 1, 2, ..., 2, 0, 2], dtype=int64)"
      ]
     },
     "execution_count": 76,
     "metadata": {},
     "output_type": "execute_result"
    }
   ],
   "source": [
    "model_predict"
   ]
  },
  {
   "cell_type": "code",
   "execution_count": 77,
   "id": "329822d2",
   "metadata": {},
   "outputs": [],
   "source": [
    "y_true = lb.transform(test['labels'])"
   ]
  },
  {
   "cell_type": "code",
   "execution_count": 78,
   "id": "45b3c474",
   "metadata": {},
   "outputs": [
    {
     "data": {
      "text/plain": [
       "0.7695473251028807"
      ]
     },
     "execution_count": 78,
     "metadata": {},
     "output_type": "execute_result"
    }
   ],
   "source": [
    "accuracy_score(y_pred=model_predict, y_true=y_true)"
   ]
  },
  {
   "cell_type": "code",
   "execution_count": 79,
   "id": "88715275",
   "metadata": {},
   "outputs": [
    {
     "data": {
      "text/plain": [
       "(0.705444312188993, 0.7578213505467923, 0.7193846157352951, None)"
      ]
     },
     "execution_count": 79,
     "metadata": {},
     "output_type": "execute_result"
    }
   ],
   "source": [
    "precision_recall_fscore_support(y_pred=model_predict, y_true=y_true, average='macro')"
   ]
  },
  {
   "cell_type": "markdown",
   "id": "0e4aa044",
   "metadata": {},
   "source": [
    "## Testing Kalimat ##"
   ]
  },
  {
   "cell_type": "code",
   "execution_count": 120,
   "id": "d2ef72d4",
   "metadata": {},
   "outputs": [],
   "source": [
    "testing_kalimat = \"USER USER AKU ITU AKU\\n\\nKU TAU MATAMU SIPIT TAPI DILIAT DARI MANA ITU AKU\""
   ]
  },
  {
   "cell_type": "code",
   "execution_count": 121,
   "id": "dbcf79ef",
   "metadata": {},
   "outputs": [],
   "source": [
    "def input_data(text):\n",
    "    new_X_val = [text]\n",
    "    new_X_val = tknzr.texts_to_sequences(new_X_val)\n",
    "    new_X_val = pad_sequences(new_X_val, maxlen=max_features)\n",
    "    new_y_pred = model.predict(new_X_val)\n",
    "    new_y_pred = np.argmax(new_y_pred, axis=1)\n",
    "    new_y_pred = lb.inverse_transform(new_y_pred)\n",
    "    return new_y_pred[0]"
   ]
  },
  {
   "cell_type": "code",
   "execution_count": 122,
   "id": "94c0565d",
   "metadata": {},
   "outputs": [
    {
     "name": "stderr",
     "output_type": "stream",
     "text": [
      "C:\\Users\\Risky Maulana\\AppData\\Roaming\\Python\\Python311\\site-packages\\tensorflow\\python\\data\\ops\\structured_function.py:254: UserWarning: Even though the `tf.config.experimental_run_functions_eagerly` option is set, this option does not apply to tf.data functions. To force eager execution of tf.data functions, please use `tf.data.experimental.enable_debug_mode()`.\n",
      "  warnings.warn(\n"
     ]
    },
    {
     "name": "stdout",
     "output_type": "stream",
     "text": [
      "1/1 [==============================] - 2s 2s/step\n"
     ]
    }
   ],
   "source": [
    "result = input_data(testing_kalimat)"
   ]
  },
  {
   "cell_type": "code",
   "execution_count": 123,
   "id": "82ee052a",
   "metadata": {},
   "outputs": [
    {
     "name": "stdout",
     "output_type": "stream",
     "text": [
      "Sentiment:\n",
      "\n",
      "negative\n"
     ]
    }
   ],
   "source": [
    "print(\"Sentiment:\")\n",
    "print()\n",
    "print(result)"
   ]
  },
  {
   "cell_type": "markdown",
   "id": "3f196725",
   "metadata": {},
   "source": [
    "## Pickle Function"
   ]
  },
  {
   "cell_type": "code",
   "execution_count": 103,
   "id": "4b86e597",
   "metadata": {},
   "outputs": [],
   "source": [
    "import pickle"
   ]
  },
  {
   "cell_type": "code",
   "execution_count": 104,
   "id": "bf67721b",
   "metadata": {},
   "outputs": [],
   "source": [
    "pickle.dump(tknzr, open('tokenizer_lstm.pkl', 'wb'))"
   ]
  },
  {
   "cell_type": "code",
   "execution_count": 105,
   "id": "270b2ef0",
   "metadata": {},
   "outputs": [],
   "source": [
    "pickle.dump(model, open('model_lstm.pkl', 'wb'))"
   ]
  }
 ],
 "metadata": {
  "kernelspec": {
   "display_name": "Python 3 (ipykernel)",
   "language": "python",
   "name": "python3"
  },
  "language_info": {
   "codemirror_mode": {
    "name": "ipython",
    "version": 3
   },
   "file_extension": ".py",
   "mimetype": "text/x-python",
   "name": "python",
   "nbconvert_exporter": "python",
   "pygments_lexer": "ipython3",
   "version": "3.11.1"
  }
 },
 "nbformat": 4,
 "nbformat_minor": 5
}
